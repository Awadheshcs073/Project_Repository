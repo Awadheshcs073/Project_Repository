{
 "cells": [
  {
   "cell_type": "code",
   "execution_count": 1,
   "metadata": {},
   "outputs": [],
   "source": [
    "import numpy as np \n",
    "import pandas as pd \n",
    "get_ipython().run_line_magic('matplotlib', 'inline')\n",
    "import matplotlib.pyplot as plt  \n",
    "import seaborn as sns\n",
    "color = sns.color_palette()\n",
    "sns.set_style('darkgrid')\n",
    "from scipy import stats\n",
    "from scipy.stats import norm, skew\n",
    "from sklearn.linear_model import LinearRegression\n",
    "from sklearn.model_selection import KFold, cross_val_score\n",
    "from sklearn.model_selection import cross_val_predict\n",
    "from sklearn.preprocessing import RobustScaler\n",
    "from sklearn.pipeline import make_pipeline\n",
    "from sklearn.linear_model import RidgeCV\n",
    "from sklearn.linear_model import LassoCV\n",
    "from sklearn.linear_model import ElasticNetCV\n",
    "from sklearn import svm\n",
    "import warnings\n",
    "warnings.filterwarnings('ignore')\n",
    "train_df=pd.read_csv('C:\\\\Users\\\\Awadhesh\\\\dataset1\\\\Flight_Ticket_Data_Train.csv')\n",
    "test_df=pd.read_csv('C:\\\\Users\\\\Awadhesh\\\\dataset1\\\\Flight_Ticket_Data_Test.csv')"
   ]
  },
  {
   "cell_type": "code",
   "execution_count": 2,
   "metadata": {},
   "outputs": [],
   "source": [
    "big_df = train_df.append(test_df)"
   ]
  },
  {
   "cell_type": "code",
   "execution_count": 3,
   "metadata": {},
   "outputs": [
    {
     "data": {
      "text/plain": [
       "Additional_Info     object\n",
       "Airline             object\n",
       "Arrival_Time        object\n",
       "Date_of_Journey     object\n",
       "Dep_Time            object\n",
       "Destination         object\n",
       "Duration            object\n",
       "Price              float64\n",
       "Route               object\n",
       "Source              object\n",
       "Total_Stops         object\n",
       "dtype: object"
      ]
     },
     "execution_count": 3,
     "metadata": {},
     "output_type": "execute_result"
    }
   ],
   "source": [
    "big_df.dtypes"
   ]
  },
  {
   "cell_type": "code",
   "execution_count": 5,
   "metadata": {},
   "outputs": [],
   "source": [
    "\n",
    "\n",
    "big_df['Date'] = big_df['Date_of_Journey'].str.split('/').str[0]\n",
    "big_df['Month'] = big_df['Date_of_Journey'].str.split('/').str[1]\n",
    "big_df['Year'] = big_df['Date_of_Journey'].str.split('/').str[2]"
   ]
  },
  {
   "cell_type": "code",
   "execution_count": 6,
   "metadata": {},
   "outputs": [],
   "source": [
    "big_df['Date'] = big_df['Date'].astype(int)\n",
    "big_df['Month'] = big_df['Month'].astype(int)\n",
    "big_df['Year'] = big_df['Year'].astype(int)"
   ]
  },
  {
   "cell_type": "code",
   "execution_count": 7,
   "metadata": {},
   "outputs": [],
   "source": [
    "big_df=big_df.drop(['Date_of_Journey'], axis=1)\n"
   ]
  },
  {
   "cell_type": "code",
   "execution_count": 8,
   "metadata": {},
   "outputs": [],
   "source": [
    "big_df['Arrival_Time'] = big_df['Arrival_Time'] .str.split(' ').str[0]"
   ]
  },
  {
   "cell_type": "code",
   "execution_count": 9,
   "metadata": {},
   "outputs": [],
   "source": [
    "big_df['Total_Stops']=big_df['Total_Stops'].fillna('1 stop')"
   ]
  },
  {
   "cell_type": "code",
   "execution_count": 10,
   "metadata": {},
   "outputs": [],
   "source": [
    "big_df['Total_Stops']=big_df['Total_Stops'].replace('non-stop','0 stop')"
   ]
  },
  {
   "cell_type": "code",
   "execution_count": 11,
   "metadata": {},
   "outputs": [],
   "source": [
    "big_df['Stop'] = big_df['Total_Stops'].str.split(' ').str[0]"
   ]
  },
  {
   "cell_type": "code",
   "execution_count": 12,
   "metadata": {},
   "outputs": [],
   "source": [
    "big_df['Stop'] = big_df['Stop'].astype(int)"
   ]
  },
  {
   "cell_type": "code",
   "execution_count": 13,
   "metadata": {},
   "outputs": [],
   "source": [
    "big_df=big_df.drop(['Total_Stops'], axis=1)"
   ]
  },
  {
   "cell_type": "code",
   "execution_count": 14,
   "metadata": {},
   "outputs": [],
   "source": [
    "big_df['Arrival_Hour'] = big_df['Arrival_Time'] .str.split(':').str[0]\n",
    "big_df['Arrival_Minute'] = big_df['Arrival_Time'] .str.split(':').str[1]\n",
    "\n",
    "big_df['Arrival_Hour'] = big_df['Arrival_Hour'].astype(int)\n",
    "big_df['Arrival_Minute'] = big_df['Arrival_Minute'].astype(int)\n",
    "big_df=big_df.drop(['Arrival_Time'], axis=1)"
   ]
  },
  {
   "cell_type": "code",
   "execution_count": 15,
   "metadata": {},
   "outputs": [],
   "source": [
    "big_df['Dep_Hour'] = big_df['Dep_Time'] .str.split(':').str[0]\n",
    "big_df['Dep_Minute'] = big_df['Dep_Time'] .str.split(':').str[1]\n",
    "big_df['Dep_Hour'] = big_df['Dep_Hour'].astype(int)\n",
    "big_df['Dep_Minute'] = big_df['Dep_Minute'].astype(int)\n",
    "big_df=big_df.drop(['Dep_Time'], axis=1)"
   ]
  },
  {
   "cell_type": "code",
   "execution_count": 16,
   "metadata": {},
   "outputs": [],
   "source": [
    "big_df['Route_1'] = big_df['Route'] .str.split('→ ').str[0]\n",
    "big_df['Route_2'] = big_df['Route'] .str.split('→ ').str[1]\n",
    "big_df['Route_3'] = big_df['Route'] .str.split('→ ').str[2]\n",
    "big_df['Route_4'] = big_df['Route'] .str.split('→ ').str[3]\n",
    "big_df['Route_5'] = big_df['Route'] .str.split('→ ').str[4]"
   ]
  },
  {
   "cell_type": "code",
   "execution_count": 17,
   "metadata": {},
   "outputs": [],
   "source": [
    "big_df['Price'].fillna((big_df['Price'].mean()), inplace=True)"
   ]
  },
  {
   "cell_type": "code",
   "execution_count": 18,
   "metadata": {},
   "outputs": [],
   "source": [
    "big_df['Route_1'].fillna(\"None\",inplace = True)\n",
    "big_df['Route_2'].fillna(\"None\",inplace = True)\n",
    "big_df['Route_3'].fillna(\"None\",inplace = True)\n",
    "big_df['Route_4'].fillna(\"None\",inplace = True)\n",
    "big_df['Route_5'].fillna(\"None\",inplace = True)"
   ]
  },
  {
   "cell_type": "code",
   "execution_count": 19,
   "metadata": {},
   "outputs": [
    {
     "data": {
      "text/html": [
       "<div>\n",
       "<style scoped>\n",
       "    .dataframe tbody tr th:only-of-type {\n",
       "        vertical-align: middle;\n",
       "    }\n",
       "\n",
       "    .dataframe tbody tr th {\n",
       "        vertical-align: top;\n",
       "    }\n",
       "\n",
       "    .dataframe thead th {\n",
       "        text-align: right;\n",
       "    }\n",
       "</style>\n",
       "<table border=\"1\" class=\"dataframe\">\n",
       "  <thead>\n",
       "    <tr style=\"text-align: right;\">\n",
       "      <th></th>\n",
       "      <th>Price</th>\n",
       "      <th>Date</th>\n",
       "      <th>Month</th>\n",
       "      <th>Year</th>\n",
       "      <th>Stop</th>\n",
       "      <th>Arrival_Hour</th>\n",
       "      <th>Arrival_Minute</th>\n",
       "      <th>Dep_Hour</th>\n",
       "      <th>Dep_Minute</th>\n",
       "    </tr>\n",
       "  </thead>\n",
       "  <tbody>\n",
       "    <tr>\n",
       "      <th>count</th>\n",
       "      <td>13354.000000</td>\n",
       "      <td>13354.000000</td>\n",
       "      <td>13354.000000</td>\n",
       "      <td>13354.0</td>\n",
       "      <td>13354.000000</td>\n",
       "      <td>13354.000000</td>\n",
       "      <td>13354.000000</td>\n",
       "      <td>13354.000000</td>\n",
       "      <td>13354.000000</td>\n",
       "    </tr>\n",
       "    <tr>\n",
       "      <th>mean</th>\n",
       "      <td>9087.064121</td>\n",
       "      <td>13.389846</td>\n",
       "      <td>4.710574</td>\n",
       "      <td>2019.0</td>\n",
       "      <td>0.826045</td>\n",
       "      <td>13.396061</td>\n",
       "      <td>24.664146</td>\n",
       "      <td>12.513254</td>\n",
       "      <td>24.507264</td>\n",
       "    </tr>\n",
       "    <tr>\n",
       "      <th>std</th>\n",
       "      <td>4124.447805</td>\n",
       "      <td>8.439060</td>\n",
       "      <td>1.165622</td>\n",
       "      <td>0.0</td>\n",
       "      <td>0.674608</td>\n",
       "      <td>6.896145</td>\n",
       "      <td>16.559723</td>\n",
       "      <td>5.736273</td>\n",
       "      <td>18.832385</td>\n",
       "    </tr>\n",
       "    <tr>\n",
       "      <th>min</th>\n",
       "      <td>1759.000000</td>\n",
       "      <td>1.000000</td>\n",
       "      <td>3.000000</td>\n",
       "      <td>2019.0</td>\n",
       "      <td>0.000000</td>\n",
       "      <td>0.000000</td>\n",
       "      <td>0.000000</td>\n",
       "      <td>0.000000</td>\n",
       "      <td>0.000000</td>\n",
       "    </tr>\n",
       "    <tr>\n",
       "      <th>25%</th>\n",
       "      <td>6135.250000</td>\n",
       "      <td>6.000000</td>\n",
       "      <td>3.000000</td>\n",
       "      <td>2019.0</td>\n",
       "      <td>0.000000</td>\n",
       "      <td>8.000000</td>\n",
       "      <td>10.000000</td>\n",
       "      <td>8.000000</td>\n",
       "      <td>5.000000</td>\n",
       "    </tr>\n",
       "    <tr>\n",
       "      <th>50%</th>\n",
       "      <td>9087.064121</td>\n",
       "      <td>12.000000</td>\n",
       "      <td>5.000000</td>\n",
       "      <td>2019.0</td>\n",
       "      <td>1.000000</td>\n",
       "      <td>14.000000</td>\n",
       "      <td>25.000000</td>\n",
       "      <td>11.000000</td>\n",
       "      <td>25.000000</td>\n",
       "    </tr>\n",
       "    <tr>\n",
       "      <th>75%</th>\n",
       "      <td>11087.000000</td>\n",
       "      <td>21.000000</td>\n",
       "      <td>6.000000</td>\n",
       "      <td>2019.0</td>\n",
       "      <td>1.000000</td>\n",
       "      <td>19.000000</td>\n",
       "      <td>35.000000</td>\n",
       "      <td>18.000000</td>\n",
       "      <td>40.000000</td>\n",
       "    </tr>\n",
       "    <tr>\n",
       "      <th>max</th>\n",
       "      <td>79512.000000</td>\n",
       "      <td>27.000000</td>\n",
       "      <td>6.000000</td>\n",
       "      <td>2019.0</td>\n",
       "      <td>4.000000</td>\n",
       "      <td>23.000000</td>\n",
       "      <td>55.000000</td>\n",
       "      <td>23.000000</td>\n",
       "      <td>55.000000</td>\n",
       "    </tr>\n",
       "  </tbody>\n",
       "</table>\n",
       "</div>"
      ],
      "text/plain": [
       "              Price          Date         Month     Year          Stop  \\\n",
       "count  13354.000000  13354.000000  13354.000000  13354.0  13354.000000   \n",
       "mean    9087.064121     13.389846      4.710574   2019.0      0.826045   \n",
       "std     4124.447805      8.439060      1.165622      0.0      0.674608   \n",
       "min     1759.000000      1.000000      3.000000   2019.0      0.000000   \n",
       "25%     6135.250000      6.000000      3.000000   2019.0      0.000000   \n",
       "50%     9087.064121     12.000000      5.000000   2019.0      1.000000   \n",
       "75%    11087.000000     21.000000      6.000000   2019.0      1.000000   \n",
       "max    79512.000000     27.000000      6.000000   2019.0      4.000000   \n",
       "\n",
       "       Arrival_Hour  Arrival_Minute      Dep_Hour    Dep_Minute  \n",
       "count  13354.000000    13354.000000  13354.000000  13354.000000  \n",
       "mean      13.396061       24.664146     12.513254     24.507264  \n",
       "std        6.896145       16.559723      5.736273     18.832385  \n",
       "min        0.000000        0.000000      0.000000      0.000000  \n",
       "25%        8.000000       10.000000      8.000000      5.000000  \n",
       "50%       14.000000       25.000000     11.000000     25.000000  \n",
       "75%       19.000000       35.000000     18.000000     40.000000  \n",
       "max       23.000000       55.000000     23.000000     55.000000  "
      ]
     },
     "execution_count": 19,
     "metadata": {},
     "output_type": "execute_result"
    }
   ],
   "source": [
    "big_df.describe()"
   ]
  },
  {
   "cell_type": "code",
   "execution_count": 20,
   "metadata": {},
   "outputs": [],
   "source": [
    "big_df=big_df.drop(['Route'], axis=1)\n",
    "big_df=big_df.drop(['Duration'], axis=1)"
   ]
  },
  {
   "cell_type": "code",
   "execution_count": 21,
   "metadata": {},
   "outputs": [],
   "source": [
    "# Converting the Categorical into integer variable\n",
    "\n",
    "from sklearn.preprocessing import LabelEncoder\n",
    "\n",
    "lb_encode = LabelEncoder()\n",
    "big_df[\"Additional_Info\"] = lb_encode.fit_transform(big_df[\"Additional_Info\"])\n",
    "big_df[\"Airline\"] = lb_encode.fit_transform(big_df[\"Airline\"])\n",
    "big_df[\"Destination\"] = lb_encode.fit_transform(big_df[\"Destination\"])\n",
    "big_df[\"Source\"] = lb_encode.fit_transform(big_df[\"Source\"])\n",
    "big_df['Route_1']= lb_encode.fit_transform(big_df[\"Route_1\"])\n",
    "big_df['Route_2']= lb_encode.fit_transform(big_df[\"Route_2\"])\n",
    "big_df['Route_3']= lb_encode.fit_transform(big_df[\"Route_3\"])\n",
    "big_df['Route_4']= lb_encode.fit_transform(big_df[\"Route_4\"])\n",
    "big_df['Route_5']= lb_encode.fit_transform(big_df[\"Route_5\"])"
   ]
  },
  {
   "cell_type": "code",
   "execution_count": 25,
   "metadata": {},
   "outputs": [],
   "source": [
    "\n",
    "\n",
    "def missing_values_table(df):\n",
    "        \n",
    "        mis_val = df.isnull().sum()\n",
    "        \n",
    "        # Percentage of missing values\n",
    "        mis_val_percent = 100 * df.isnull().sum() / len(df)\n",
    "        \n",
    "        # Make a table with the results\n",
    "        mis_val_table = pd.concat([mis_val, mis_val_percent], axis=1)\n",
    "        \n",
    "        \n",
    "        mis_val_table_ren_columns = mis_val_table.rename(\n",
    "        columns = {0 : 'Missing Values', 1 : '% of Total Values'})\n",
    "        \n",
    "        \n",
    "        mis_val_table_ren_columns = mis_val_table_ren_columns[\n",
    "            mis_val_table_ren_columns.iloc[:,1] != 0].sort_values(\n",
    "        '% of Total Values', ascending=False).round(1)\n",
    "        \n",
    "        \n",
    "        print (\"Your selected dataframe has \" + str(df.shape[1]) + \" columns.\\n\"      \n",
    "            \"There are \" + str(mis_val_table_ren_columns.shape[0]) +\n",
    "              \" columns that have missing values.\")\n",
    "        \n",
    "       \n",
    "        return mis_val_table_ren_columns "
   ]
  },
  {
   "cell_type": "code",
   "execution_count": 26,
   "metadata": {},
   "outputs": [
    {
     "name": "stdout",
     "output_type": "stream",
     "text": [
      "Your selected dataframe has 18 columns.\n",
      "There are 0 columns that have missing values.\n"
     ]
    },
    {
     "data": {
      "text/html": [
       "<div>\n",
       "<style scoped>\n",
       "    .dataframe tbody tr th:only-of-type {\n",
       "        vertical-align: middle;\n",
       "    }\n",
       "\n",
       "    .dataframe tbody tr th {\n",
       "        vertical-align: top;\n",
       "    }\n",
       "\n",
       "    .dataframe thead th {\n",
       "        text-align: right;\n",
       "    }\n",
       "</style>\n",
       "<table border=\"1\" class=\"dataframe\">\n",
       "  <thead>\n",
       "    <tr style=\"text-align: right;\">\n",
       "      <th></th>\n",
       "      <th>Missing Values</th>\n",
       "      <th>% of Total Values</th>\n",
       "    </tr>\n",
       "  </thead>\n",
       "  <tbody>\n",
       "  </tbody>\n",
       "</table>\n",
       "</div>"
      ],
      "text/plain": [
       "Empty DataFrame\n",
       "Columns: [Missing Values, % of Total Values]\n",
       "Index: []"
      ]
     },
     "execution_count": 26,
     "metadata": {},
     "output_type": "execute_result"
    }
   ],
   "source": [
    "missing_values_table(big_df)"
   ]
  },
  {
   "cell_type": "code",
   "execution_count": 27,
   "metadata": {},
   "outputs": [],
   "source": [
    "\n",
    "\n",
    "df_train = big_df[0:10683]\n",
    "df_test = big_df[10683:]\n",
    "df_test = df_test.drop(['Price'], axis =1)"
   ]
  },
  {
   "cell_type": "code",
   "execution_count": 28,
   "metadata": {},
   "outputs": [],
   "source": [
    "X = df_train.drop(['Price'], axis=1)\n",
    "y = df_train.Price"
   ]
  },
  {
   "cell_type": "code",
   "execution_count": 29,
   "metadata": {},
   "outputs": [],
   "source": [
    "from sklearn.model_selection import train_test_split\n",
    "X_train, X_test, y_train, y_test = train_test_split(X, y, test_size=0.3, random_state=123)"
   ]
  },
  {
   "cell_type": "code",
   "execution_count": 30,
   "metadata": {},
   "outputs": [],
   "source": [
    "\n",
    "lm = LinearRegression()"
   ]
  },
  {
   "cell_type": "code",
   "execution_count": 31,
   "metadata": {},
   "outputs": [],
   "source": [
    "\n",
    "kfolds = KFold(n_splits=50,shuffle=True, random_state=100)"
   ]
  },
  {
   "cell_type": "code",
   "execution_count": 32,
   "metadata": {},
   "outputs": [],
   "source": [
    "def cv_rmse(model):\n",
    "    rmse = np.sqrt(-cross_val_score(model, X, y, \n",
    "                                   scoring=\"neg_mean_squared_error\", \n",
    "                                   cv = kfolds))\n",
    "    return(rmse)"
   ]
  },
  {
   "cell_type": "code",
   "execution_count": 33,
   "metadata": {},
   "outputs": [
    {
     "data": {
      "text/plain": [
       "3441.661564025337"
      ]
     },
     "execution_count": 33,
     "metadata": {},
     "output_type": "execute_result"
    }
   ],
   "source": [
    "benchmark_model = make_pipeline(RobustScaler(),\n",
    "                                lm).fit(X=X_train, y=y_train)\n",
    "cv_rmse(benchmark_model).mean()"
   ]
  },
  {
   "cell_type": "code",
   "execution_count": 34,
   "metadata": {},
   "outputs": [],
   "source": [
    "# # Ridge Regression\n",
    "\n",
    "from sklearn.linear_model import RidgeCV\n",
    "\n",
    "def ridge_selector(k):\n",
    "    ridge_model = make_pipeline(RobustScaler(),\n",
    "                                RidgeCV(alphas = [k],\n",
    "                                        cv=kfolds)).fit(X_train, y_train)\n",
    "    \n",
    "    ridge_rmse = cv_rmse(ridge_model).mean()\n",
    "    return(ridge_rmse)"
   ]
  },
  {
   "cell_type": "code",
   "execution_count": 35,
   "metadata": {},
   "outputs": [],
   "source": [
    "r_alphas = [.0001, .0003, .0005, .0007, .0009, \n",
    "          .01, 0.05, 0.1, 0.3, 1, 3, 5, 10, 15, 20, 30, 50, 60, 70, 80]\n",
    "\n",
    "ridge_scores = []\n",
    "for alpha in r_alphas:\n",
    "    score = ridge_selector(alpha)\n",
    "    ridge_scores.append(score)"
   ]
  },
  {
   "cell_type": "code",
   "execution_count": 36,
   "metadata": {},
   "outputs": [
    {
     "data": {
      "text/html": [
       "<div>\n",
       "<style scoped>\n",
       "    .dataframe tbody tr th:only-of-type {\n",
       "        vertical-align: middle;\n",
       "    }\n",
       "\n",
       "    .dataframe tbody tr th {\n",
       "        vertical-align: top;\n",
       "    }\n",
       "\n",
       "    .dataframe thead th {\n",
       "        text-align: right;\n",
       "    }\n",
       "</style>\n",
       "<table border=\"1\" class=\"dataframe\">\n",
       "  <thead>\n",
       "    <tr style=\"text-align: right;\">\n",
       "      <th></th>\n",
       "      <th>RMSE</th>\n",
       "    </tr>\n",
       "  </thead>\n",
       "  <tbody>\n",
       "    <tr>\n",
       "      <th>0.0001</th>\n",
       "      <td>3441.661564</td>\n",
       "    </tr>\n",
       "    <tr>\n",
       "      <th>0.0003</th>\n",
       "      <td>3441.661562</td>\n",
       "    </tr>\n",
       "    <tr>\n",
       "      <th>0.0005</th>\n",
       "      <td>3441.661561</td>\n",
       "    </tr>\n",
       "    <tr>\n",
       "      <th>0.0007</th>\n",
       "      <td>3441.661560</td>\n",
       "    </tr>\n",
       "    <tr>\n",
       "      <th>0.0009</th>\n",
       "      <td>3441.661559</td>\n",
       "    </tr>\n",
       "    <tr>\n",
       "      <th>0.0100</th>\n",
       "      <td>3441.661512</td>\n",
       "    </tr>\n",
       "    <tr>\n",
       "      <th>0.0500</th>\n",
       "      <td>3441.661306</td>\n",
       "    </tr>\n",
       "    <tr>\n",
       "      <th>0.1000</th>\n",
       "      <td>3441.661049</td>\n",
       "    </tr>\n",
       "    <tr>\n",
       "      <th>0.3000</th>\n",
       "      <td>3441.660027</td>\n",
       "    </tr>\n",
       "    <tr>\n",
       "      <th>1.0000</th>\n",
       "      <td>3441.656526</td>\n",
       "    </tr>\n",
       "    <tr>\n",
       "      <th>3.0000</th>\n",
       "      <td>3441.647179</td>\n",
       "    </tr>\n",
       "    <tr>\n",
       "      <th>5.0000</th>\n",
       "      <td>3441.638800</td>\n",
       "    </tr>\n",
       "    <tr>\n",
       "      <th>10.0000</th>\n",
       "      <td>3441.622059</td>\n",
       "    </tr>\n",
       "    <tr>\n",
       "      <th>15.0000</th>\n",
       "      <td>3441.611273</td>\n",
       "    </tr>\n",
       "    <tr>\n",
       "      <th>20.0000</th>\n",
       "      <td>3441.606374</td>\n",
       "    </tr>\n",
       "    <tr>\n",
       "      <th>30.0000</th>\n",
       "      <td>3441.613978</td>\n",
       "    </tr>\n",
       "    <tr>\n",
       "      <th>50.0000</th>\n",
       "      <td>3441.696992</td>\n",
       "    </tr>\n",
       "    <tr>\n",
       "      <th>60.0000</th>\n",
       "      <td>3441.771401</td>\n",
       "    </tr>\n",
       "    <tr>\n",
       "      <th>70.0000</th>\n",
       "      <td>3441.867099</td>\n",
       "    </tr>\n",
       "    <tr>\n",
       "      <th>80.0000</th>\n",
       "      <td>3441.983615</td>\n",
       "    </tr>\n",
       "  </tbody>\n",
       "</table>\n",
       "</div>"
      ],
      "text/plain": [
       "                RMSE\n",
       "0.0001   3441.661564\n",
       "0.0003   3441.661562\n",
       "0.0005   3441.661561\n",
       "0.0007   3441.661560\n",
       "0.0009   3441.661559\n",
       "0.0100   3441.661512\n",
       "0.0500   3441.661306\n",
       "0.1000   3441.661049\n",
       "0.3000   3441.660027\n",
       "1.0000   3441.656526\n",
       "3.0000   3441.647179\n",
       "5.0000   3441.638800\n",
       "10.0000  3441.622059\n",
       "15.0000  3441.611273\n",
       "20.0000  3441.606374\n",
       "30.0000  3441.613978\n",
       "50.0000  3441.696992\n",
       "60.0000  3441.771401\n",
       "70.0000  3441.867099\n",
       "80.0000  3441.983615"
      ]
     },
     "execution_count": 36,
     "metadata": {},
     "output_type": "execute_result"
    },
    {
     "data": {
      "image/png": "[encoded data removed]",
      "text/plain": [
       "<Figure size 432x288 with 1 Axes>"
      ]
     },
     "metadata": {
      "needs_background": "light"
     },
     "output_type": "display_data"
    }
   ],
   "source": [
    "plt.plot(r_alphas, ridge_scores, label='Ridge')\n",
    "plt.legend('center')\n",
    "plt.xlabel('alpha')\n",
    "plt.ylabel('score')\n",
    "\n",
    "ridge_score_table = pd.DataFrame(ridge_scores, r_alphas, columns=['RMSE'])\n",
    "ridge_score_table"
   ]
  },
  {
   "cell_type": "code",
   "execution_count": 37,
   "metadata": {},
   "outputs": [
    {
     "data": {
      "text/plain": [
       "3441.610518922202"
      ]
     },
     "execution_count": 37,
     "metadata": {},
     "output_type": "execute_result"
    }
   ],
   "source": [
    "alphas_alt = [14.5, 14.6, 14.7, 14.8, 14.9, 15, 15.1, 15.2, 15.3, 15.4, 15.5]\n",
    "\n",
    "ridge_model2 = make_pipeline(RobustScaler(),\n",
    "                            RidgeCV(alphas = alphas_alt,\n",
    "                                    cv=kfolds)).fit(X_train, y_train)\n",
    "\n",
    "cv_rmse(ridge_model2).mean()"
   ]
  },
  {
   "cell_type": "code",
   "execution_count": 38,
   "metadata": {},
   "outputs": [],
   "source": [
    "# # Lasso Regression\n",
    "\n",
    "alphas = [0.00005, 0.0001, 0.0003, 0.0005, 0.0007, \n",
    "          0.0009, 0.01]\n",
    "alphas2 = [0.00005, 0.0001, 0.0002, 0.0003, 0.0004, 0.0005,\n",
    "           0.0006, 0.0007, 0.0008]\n",
    "\n",
    "lasso_model2 = make_pipeline(RobustScaler(),\n",
    "                             LassoCV(max_iter=1e7,\n",
    "                                    alphas = alphas2,\n",
    "                                    random_state = 42)).fit(X_train, y_train)"
   ]
  },
  {
   "cell_type": "code",
   "execution_count": 39,
   "metadata": {},
   "outputs": [],
   "source": [
    "scores = lasso_model2.steps[1][1].mse_path_\n"
   ]
  },
  {
   "cell_type": "code",
   "execution_count": 40,
   "metadata": {},
   "outputs": [
    {
     "data": {
      "text/plain": [
       "3441.6615112147992"
      ]
     },
     "execution_count": 40,
     "metadata": {},
     "output_type": "execute_result"
    }
   ],
   "source": [
    "cv_rmse(lasso_model2).mean()"
   ]
  },
  {
   "cell_type": "code",
   "execution_count": 41,
   "metadata": {},
   "outputs": [],
   "source": [
    "e_alphas = [0.0001, 0.0002, 0.0003, 0.0004, 0.0005, 0.0006, 0.0007]\n",
    "e_l1ratio = [0.8, 0.85, 0.9, 0.95, 0.99, 1]\n",
    "\n",
    "elastic_cv = make_pipeline(RobustScaler(), \n",
    "                           ElasticNetCV(max_iter=1e7, alphas=e_alphas, \n",
    "                                        cv=kfolds, l1_ratio=e_l1ratio))\n",
    "\n",
    "elastic_model3 = elastic_cv.fit(X_train, y_train)"
   ]
  },
  {
   "cell_type": "code",
   "execution_count": 42,
   "metadata": {},
   "outputs": [
    {
     "data": {
      "text/plain": [
       "3441.6542398280358"
      ]
     },
     "execution_count": 42,
     "metadata": {},
     "output_type": "execute_result"
    }
   ],
   "source": [
    "cv_rmse(elastic_model3).mean()"
   ]
  },
  {
   "cell_type": "code",
   "execution_count": null,
   "metadata": {},
   "outputs": [],
   "source": []
  },
  {
   "cell_type": "code",
   "execution_count": null,
   "metadata": {},
   "outputs": [],
   "source": []
  }
 ],
 "metadata": {
  "kernelspec": {
   "display_name": "Python 3",
   "language": "python",
   "name": "python3"
  },
  "language_info": {
   "codemirror_mode": {
    "name": "ipython",
    "version": 3
   },
   "file_extension": ".py",
   "mimetype": "text/x-python",
   "name": "python",
   "nbconvert_exporter": "python",
   "pygments_lexer": "ipython3",
   "version": "3.7.3"
  }
 },
 "nbformat": 4,
 "nbformat_minor": 2
}
